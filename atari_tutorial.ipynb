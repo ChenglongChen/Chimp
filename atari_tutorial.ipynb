{
 "cells": [
  {
   "cell_type": "code",
   "execution_count": 1,
   "metadata": {
    "collapsed": true
   },
   "outputs": [],
   "source": [
    "# be sure to have run ' python setup.py ' from chimp directory"
   ]
  },
  {
   "cell_type": "markdown",
   "metadata": {},
   "source": [
    "# Training DeepMind's Atari DQN with Chimp"
   ]
  },
  {
   "cell_type": "markdown",
   "metadata": {},
   "source": [
    "First, we load all the Chimp modules."
   ]
  },
  {
   "cell_type": "code",
   "execution_count": 3,
   "metadata": {
    "collapsed": false
   },
   "outputs": [],
   "source": [
    "from chimp.memories import ReplayMemoryHDF5\n",
    "\n",
    "from chimp.learners.dqn_learner import DQNLearner\n",
    "from chimp.learners.chainer_backend import ChainerBackend\n",
    "\n",
    "from chimp.simulators.atari import AtariSimulator\n",
    "\n",
    "from chimp.agents import DQNAgent"
   ]
  },
  {
   "cell_type": "markdown",
   "metadata": {},
   "source": [
    "Then we load Python packages."
   ]
  },
  {
   "cell_type": "code",
   "execution_count": 4,
   "metadata": {
    "collapsed": true
   },
   "outputs": [],
   "source": [
    "%matplotlib inline  \n",
    "import matplotlib.pyplot as plt\n",
    "\n",
    "import numpy as np\n",
    "import chainer\n",
    "import chainer.functions as F\n",
    "import chainer.links as L\n",
    "from chainer import Chain\n",
    "import os\n",
    "\n",
    "import pandas as ps"
   ]
  },
  {
   "cell_type": "markdown",
   "metadata": {},
   "source": [
    "Finally, we set training parameters in a params dictionary that will be passed to the modules."
   ]
  },
  {
   "cell_type": "code",
   "execution_count": 5,
   "metadata": {
    "collapsed": true
   },
   "outputs": [],
   "source": [
    "# Define training settings\n",
    "\n",
    "settings = {\n",
    "\n",
    "    # agent settings\n",
    "    'batch_size' : 32,\n",
    "    'print_every' : 20000,\n",
    "    'save_dir' : './results_atari',\n",
    "    'iterations' : 200000,\n",
    "    'eval_iterations' : 5000,\n",
    "    'eval_every' : 20000,\n",
    "    'save_every' : 20000,\n",
    "    'initial_exploration' : 10000,\n",
    "    'epsilon_decay' : 0.000005, # subtract from epsilon every step\n",
    "    'eval_epsilon' : 0.05, # epsilon used in evaluation, 0 means no random actions\n",
    "    'epsilon' : 1.0,  # Initial exploratoin rate\n",
    "    'learn_freq' : 4,\n",
    "    'history_sizes' : (4, 0, 0), # sizes of histories to use as nn inputs (o, a, r)\n",
    "    'model_dims' : (84,84),\n",
    "    \n",
    "    # Atari settings\n",
    "    'rom' : \"Breakout.bin\",\n",
    "    'rom_dir' :  './roms',\n",
    "    'pad' : 15, # padding parameter - for image cropping - only along the length of the image, to obtain a square\n",
    "    'action_history' : True,\n",
    "\n",
    "    # simulator settings\n",
    "    'viz' : True,\n",
    "    'viz_cropped' : False,\n",
    "\n",
    "    # replay memory settings\n",
    "    'memory_size' : 200000,  # size of replay memory\n",
    "    'frame_skip' : 4,  # number of frames to skip\n",
    "\n",
    "    # learner settings\n",
    "    'learning_rate' : 0.00025, \n",
    "    'decay_rate' : 0.95, # decay rate for RMSprop, otherwise not used\n",
    "    'discount' : 0.99, # discount rate for RL\n",
    "    'clip_err' : False, # value to clip loss gradients to\n",
    "    'clip_reward' : 1, # value to clip reward values to\n",
    "    'target_net_update' : 10000, # update the update-generating target net every fixed number of iterations\n",
    "    'optim_name' : 'RMSprop', # currently supports \"RMSprop\", \"ADADELTA\", \"ADAM\" and \"SGD\"'\n",
    "    'gpu' : True, # NO GPU FOR THIS EXAMPLE \n",
    "    'reward_rescale': False,\n",
    "\n",
    "    # general\n",
    "    'seed_general' : 1723,\n",
    "    'seed_simulator' : 5632,\n",
    "    'seed_agent' : 9826,\n",
    "    'seed_memory' : 7563\n",
    "\n",
    "    }"
   ]
  },
  {
   "cell_type": "markdown",
   "metadata": {},
   "source": [
    "We set a small number of training iterations for this example - for illustration purposes. We also set the GPU option to True (turn it off if your machine does not support it)."
   ]
  },
  {
   "cell_type": "code",
   "execution_count": 6,
   "metadata": {
    "collapsed": true
   },
   "outputs": [],
   "source": [
    "# set random seed\n",
    "np.random.seed(settings[\"seed_general\"])"
   ]
  },
  {
   "cell_type": "markdown",
   "metadata": {},
   "source": [
    "Now we initialize the simulator first, as we need to use some information it provides - e.g., number of actions."
   ]
  },
  {
   "cell_type": "code",
   "execution_count": 7,
   "metadata": {
    "collapsed": false
   },
   "outputs": [
    {
     "name": "stdout",
     "output_type": "stream",
     "text": [
      "Original screen width/height: 160/210\n",
      "Cropped screen width/height: 84/84\n"
     ]
    }
   ],
   "source": [
    "simulator = AtariSimulator(settings)"
   ]
  },
  {
   "cell_type": "markdown",
   "metadata": {},
   "source": [
    "Here we define the convolutional network, in a format required by Chainer - the deep learning library we use."
   ]
  },
  {
   "cell_type": "code",
   "execution_count": 8,
   "metadata": {
    "collapsed": false
   },
   "outputs": [],
   "source": [
    "#Define the network\n",
    "class Convolution(Chain):\n",
    "\n",
    "    def __init__(self):\n",
    "        super(Convolution, self).__init__(\n",
    "            l1=F.Convolution2D(settings['history_sizes'][0], 32, ksize=8, stride=4, nobias=False, wscale=np.sqrt(2)),\n",
    "            l2=F.Convolution2D(32, 64, ksize=4, stride=2, nobias=False, wscale=np.sqrt(2)),\n",
    "            l3=F.Convolution2D(64, 64, ksize=3, stride=1, nobias=False, wscale=np.sqrt(2)),\n",
    "            l4=F.Linear(3136, 512, wscale = np.sqrt(2)),\n",
    "            l5=F.Linear(512, simulator.n_actions, wscale = np.sqrt(2)),\n",
    "        )\n",
    "\n",
    "    def __call__(self, ohist, ahist):\n",
    "        if len(ohist.data.shape) < 4:\n",
    "            ohist = F.reshape(ohist,(1,4,84,84))\n",
    "        h1 = F.relu(self.l1(ohist/255.0))\n",
    "        h2 = F.relu(self.l2(h1))\n",
    "        h3 = F.relu(self.l3(h2))\n",
    "        h4 = F.relu(self.l4(h3))\n",
    "        output = self.l5(h4)\n",
    "        return output\n",
    "\n",
    "net = Convolution()"
   ]
  },
  {
   "cell_type": "markdown",
   "metadata": {},
   "source": [
    "We then initialize the learner + chainer backend, replay memory, and agent modules."
   ]
  },
  {
   "cell_type": "code",
   "execution_count": 9,
   "metadata": {
    "collapsed": false
   },
   "outputs": [],
   "source": [
    "backend = ChainerBackend(settings)\n",
    "backend.set_net(net)\n",
    "learner = DQNLearner(settings, backend)"
   ]
  },
  {
   "cell_type": "code",
   "execution_count": 10,
   "metadata": {
    "collapsed": false
   },
   "outputs": [],
   "source": [
    "memory = ReplayMemoryHDF5(settings)"
   ]
  },
  {
   "cell_type": "code",
   "execution_count": 11,
   "metadata": {
    "collapsed": false
   },
   "outputs": [],
   "source": [
    "agent = DQNAgent(learner, memory, simulator, settings)"
   ]
  },
  {
   "cell_type": "markdown",
   "metadata": {},
   "source": [
    "Now let the agent train."
   ]
  },
  {
   "cell_type": "code",
   "execution_count": 12,
   "metadata": {
    "collapsed": false,
    "scrolled": true
   },
   "outputs": [
    {
     "name": "stdout",
     "output_type": "stream",
     "text": [
      "Iteration:  0 , Loss:  0.0171046  Q-Values:  [-0.37939298  0.08422476  0.10484689 -0.16516322  0.01659012 -0.14170821\n",
      " -0.16731592 -0.08619051  0.14112918 -0.01261552 -0.36450332  0.14149277\n",
      "  0.4631345   0.09862249  0.13011721 -0.17714685 -0.17701186 -0.29230317] , Time since print:  2.22523498535 , Total runtime:  2.22525215149 , epsilon:  1.0\n",
      "Evaluation, total reward:  34.0 , Reward per episode:  1.1724137931 , Total runtime:  55.6499819756\n",
      "Iteration:  20000 , Loss:  6.75626e-05  Q-Values:  [ 1.9583919   1.98552358  1.97455537  1.92774296  2.02621102  1.96776748\n",
      "  1.94027114  1.89998102  1.90520251  1.95907629  1.99189091  2.00286078\n",
      "  1.97062528  1.97074091  2.00981021  1.97861087  1.96410429  1.97063708] , Time since print:  389.982792854 , Total runtime:  392.208096981 , epsilon:  0.899999999999\n",
      "Evaluation, total reward:  41.0 , Reward per episode:  1.69565217391 , Total runtime:  52.2979850769\n",
      "Iteration:  40000 , Loss:  9.60877e-05  Q-Values:  [ 2.04725766  2.04930258  2.03828621  2.04128218  2.06814575  2.05196142\n",
      "  2.05733466  2.0582304   2.04584384  2.05997944  2.02714109  2.03805041\n",
      "  2.06379819  2.05858207  2.05473685  2.053792    2.05924344  2.0412755 ] , Time since print:  395.642266035 , Total runtime:  787.850402117 , epsilon:  0.799999999999\n",
      "Evaluation, total reward:  31.0 , Reward per episode:  1.34782608696 , Total runtime:  52.4545211792\n",
      "Iteration:  60000 , Loss:  0.000526607  Q-Values:  [ 1.99646163  1.97918344  1.99428821  1.94236958  1.95071995  1.97567046\n",
      "  1.91159344  1.94766366  1.98111427  2.00458288  1.90431321  1.92280149\n",
      "  1.98087668  1.9799614   1.94443238  1.95064461  1.99245846  2.01126266] , Time since print:  397.822889805 , Total runtime:  1185.67333007 , epsilon:  0.699999999998\n",
      "Evaluation, total reward:  44.0 , Reward per episode:  1.5 , Total runtime:  52.3677489758\n",
      "Iteration:  80000 , Loss:  0.000215831  Q-Values:  [ 2.29486036  2.27501845  2.30663157  2.29507494  2.28930664  2.24644947\n",
      "  2.26016355  2.27372956  2.28735447  2.28056359  2.29137802  2.29859424\n",
      "  2.2738843   2.29563212  2.31720066  2.32859612  2.30490017  2.29497004] , Time since print:  399.925876856 , Total runtime:  1585.59924316 , epsilon:  0.599999999997\n",
      "Evaluation, total reward:  19.0 , Reward per episode:  0.575757575758 , Total runtime:  52.662252903\n",
      "Iteration:  100000 , Loss:  0.000789155  Q-Values:  [ 2.31768084  2.31519103  2.31191278  2.30564165  2.31310368  2.2793479\n",
      "  2.30776095  2.26894903  2.26993132  2.29829884  2.26542091  2.30014348\n",
      "  2.30686474  2.3457756   2.33968925  2.25981379  2.26832676  2.3337779 ] , Time since print:  403.426303148 , Total runtime:  1989.0256021 , epsilon:  0.499999999997\n",
      "Evaluation, total reward:  37.0 , Reward per episode:  1.32142857143 , Total runtime:  52.618819952\n",
      "Iteration:  120000 , Loss:  0.000538852  Q-Values:  [ 2.51657557  2.52506852  2.52004075  2.50774407  2.53167748  2.52003908\n",
      "  2.50174689  2.51842189  2.54166126  2.49789476  2.51609802  2.52341843\n",
      "  2.55921268  2.52184796  2.53693819  2.54204249  2.53696322  2.5439558 ] , Time since print:  564.793174028 , Total runtime:  2553.81882405 , epsilon:  0.399999999997\n",
      "Evaluation, total reward:  36.0 , Reward per episode:  1.2 , Total runtime:  52.292331934\n",
      "Iteration:  140000 , Loss:  0.00584574  Q-Values:  [ 2.5300343   2.56533384  2.52856755  2.5240643   2.54173017  2.52115035\n",
      "  2.48481417  2.49958324  2.52343559  2.50539327  2.51883268  2.54899788\n",
      "  2.50057673  2.48840117  2.47984672  2.50269651  2.51847148  2.48462009] , Time since print:  406.033531189 , Total runtime:  2959.85240197 , epsilon:  0.299999999998\n",
      "Evaluation, total reward:  25.0 , Reward per episode:  0.757575757576 , Total runtime:  52.4722340107\n",
      "Iteration:  160000 , Loss:  0.00161689  Q-Values:  [ 2.46832395  2.50555754  2.48211694  2.47102451  2.50537801  2.5151329\n",
      "  2.4930315   2.49606371  2.45662999  2.50046229  2.48660088  2.5472064\n",
      "  2.54694176  2.60450387  2.54899645  2.55520129  2.50272775  2.57961607] , Time since print:  405.399721146 , Total runtime:  3365.25216198 , epsilon:  0.199999999998\n",
      "Evaluation, total reward:  44.0 , Reward per episode:  1.62962962963 , Total runtime:  52.7201311588\n",
      "Iteration:  180000 , Loss:  0.00100834  Q-Values:  [ 2.85475564  2.84423351  2.87486386  2.77686357  2.87954092  2.84294724\n",
      "  2.86623669  2.84015989  2.86039662  2.86976862  2.8472681   2.82307887\n",
      "  2.87818742  2.82980824  2.79440808  2.87057018  2.79615259  2.85478234] , Time since print:  402.698935986 , Total runtime:  3767.95113516 , epsilon:  0.1\n",
      "Evaluation, total reward:  50.0 , Reward per episode:  2.27272727273 , Total runtime:  52.4290230274\n",
      "Overall training + evaluation time: 4349.286654\n"
     ]
    }
   ],
   "source": [
    "agent.train()"
   ]
  },
  {
   "cell_type": "markdown",
   "metadata": {},
   "source": [
    "# Visualizing results"
   ]
  },
  {
   "cell_type": "markdown",
   "metadata": {},
   "source": [
    "First, let's visualize the training and evaluation results."
   ]
  },
  {
   "cell_type": "code",
   "execution_count": 13,
   "metadata": {
    "collapsed": false
   },
   "outputs": [],
   "source": [
    "train_stats = ps.read_csv('%s/training_history.csv' % settings['save_dir'],delimiter=' ',header=None)\n",
    "train_stats.columns = ['Iteration','MSE Loss','Average Q-Value']"
   ]
  },
  {
   "cell_type": "code",
   "execution_count": 14,
   "metadata": {
    "collapsed": true
   },
   "outputs": [],
   "source": [
    "eval_stats = ps.read_csv('%s/evaluation_history.csv' % settings['save_dir'],delimiter=' ',header=None)\n",
    "eval_stats.columns = ['Iteration','Total Reward','Reward per Episode']"
   ]
  },
  {
   "cell_type": "code",
   "execution_count": 15,
   "metadata": {
    "collapsed": false
   },
   "outputs": [
    {
     "data": {
      "image/png": "[encoded data removed]",
      "text/plain": [
       "<matplotlib.figure.Figure at 0x119242ed0>"
      ]
     },
     "metadata": {},
     "output_type": "display_data"
    }
   ],
   "source": [
    "plt.plot(eval_stats['Iteration'], eval_stats['Reward per Episode'])\n",
    "plt.xlabel(\"Iteration\")\n",
    "plt.ylabel(\"Avg. Reward per Episode\")\n",
    "plt.grid(True)\n",
    "#plt.savefig(settings['save_dir'] + '_' + \"evaluation_reward.svg\", bbox_inches='tight')\n",
    "plt.show()\n",
    "plt.close()"
   ]
  },
  {
   "cell_type": "code",
   "execution_count": 16,
   "metadata": {
    "collapsed": false
   },
   "outputs": [
    {
     "data": {
      "image/png": "[encoded data removed]",
      "text/plain": [
       "<matplotlib.figure.Figure at 0x10f7bedd0>"
      ]
     },
     "metadata": {},
     "output_type": "display_data"
    }
   ],
   "source": [
    "plt.plot(train_stats['Iteration'], train_stats['Average Q-Value'])\n",
    "plt.xlabel(\"Iteration\")\n",
    "plt.ylabel(\"Avg. Q-Values\")\n",
    "plt.grid(True)\n",
    "#plt.savefig(settings['save_dir'] + '_' + \"training_q_values.svg\", bbox_inches='tight')\n",
    "plt.show()\n",
    "plt.close()"
   ]
  },
  {
   "cell_type": "markdown",
   "metadata": {},
   "source": [
    "# Evaluating the best policy"
   ]
  },
  {
   "cell_type": "markdown",
   "metadata": {},
   "source": [
    "Let's load the network that collected the highest reward per game episode"
   ]
  },
  {
   "cell_type": "code",
   "execution_count": 17,
   "metadata": {
    "collapsed": true
   },
   "outputs": [],
   "source": [
    "best_iteration_index = np.argmax(eval_stats['Reward per Episode'])\n",
    "best_iteration = str(int(eval_stats['Iteration'][best_iteration_index]))"
   ]
  },
  {
   "cell_type": "code",
   "execution_count": 18,
   "metadata": {
    "collapsed": false
   },
   "outputs": [
    {
     "data": {
      "text/plain": [
       "'180000'"
      ]
     },
     "execution_count": 18,
     "metadata": {},
     "output_type": "execute_result"
    }
   ],
   "source": [
    "best_iteration "
   ]
  },
  {
   "cell_type": "code",
   "execution_count": 19,
   "metadata": {
    "collapsed": true
   },
   "outputs": [],
   "source": [
    "agent.learner.load_net(settings['save_dir']+'/net_' + best_iteration + '.p')"
   ]
  },
  {
   "cell_type": "code",
   "execution_count": 20,
   "metadata": {
    "collapsed": false
   },
   "outputs": [],
   "source": [
    "r_tot, r_per_episode, runtime = agent.simulate(10000, epsilon=0.05, viz=True)"
   ]
  },
  {
   "cell_type": "code",
   "execution_count": 21,
   "metadata": {
    "collapsed": false
   },
   "outputs": [
    {
     "data": {
      "text/plain": [
       "2.302325581395349"
      ]
     },
     "execution_count": 21,
     "metadata": {},
     "output_type": "execute_result"
    }
   ],
   "source": [
    "r_per_episode"
   ]
  },
  {
   "cell_type": "code",
   "execution_count": null,
   "metadata": {
    "collapsed": true
   },
   "outputs": [],
   "source": []
  }
 ],
 "metadata": {
  "kernelspec": {
   "display_name": "Python 2",
   "language": "python",
   "name": "python2"
  },
  "language_info": {
   "codemirror_mode": {
    "name": "ipython",
    "version": 2
   },
   "file_extension": ".py",
   "mimetype": "text/x-python",
   "name": "python",
   "nbconvert_exporter": "python",
   "pygments_lexer": "ipython2",
   "version": "2.7.11"
  }
 },
 "nbformat": 4,
 "nbformat_minor": 0
}
